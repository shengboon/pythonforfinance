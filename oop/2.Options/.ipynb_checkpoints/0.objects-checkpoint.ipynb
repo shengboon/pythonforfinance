{
 "cells": [
  {
   "cell_type": "code",
   "execution_count": 19,
   "metadata": {},
   "outputs": [],
   "source": [
    "import numpy as np\n",
    "import scipy.stats as sp"
   ]
  },
  {
   "cell_type": "markdown",
   "metadata": {},
   "source": [
    "<b>Create Equity Class </b>\n",
    "<br>\n",
    "Member Functions\n",
    "<ul>\n",
    "<li> delta\n",
    "<li>marketvalue\n",
    "<li>theovalue\n",
    "</ul>"
   ]
  },
  {
   "cell_type": "code",
   "execution_count": 20,
   "metadata": {},
   "outputs": [],
   "source": [
    "class Equity:\n",
    "    def __init__(self,s,n=0):\n",
    "        \"\"\"\n",
    "        Equity Object\n",
    "        s = share price\n",
    "        n = nbr of shares in position\n",
    "        \"\"\"\n",
    "        self.price = s\n",
    "        self.n = n\n",
    "    \n",
    "    def delta(self):\n",
    "        return 1\n",
    "    \n",
    "    def marketvalue(self):\n",
    "        return self.theovalue() * self.n\n",
    "    \n",
    "    def theovalue(self):\n",
    "        return self.price\n",
    "    \n",
    "    def totaldelta(self):\n",
    "        return self.n * self.s * self.delta()"
   ]
  },
  {
   "cell_type": "markdown",
   "metadata": {},
   "source": [
    "<b> European Call Option</b> (derived from Equity)<br>\n",
    "<br>\n",
    "$\\Delta=\\frac{\\partial P}{\\partial S} \\sim \\frac{\\Delta P}{\\Delta S}$"
   ]
  },
  {
   "cell_type": "code",
   "execution_count": 21,
   "metadata": {},
   "outputs": [],
   "source": [
    "class EuCall(Equity):\n",
    "    def __init__(self,t, s, k, r, q, v,n):\n",
    "        \"\"\"\n",
    "        t = maturity\n",
    "        s = spot price (underlying)\n",
    "        k = strike\n",
    "        r = interest rate\n",
    "        q = div yield\n",
    "        v = volatility\n",
    "        n = nbr of options\n",
    "        Example : EuCall(5,100,100,0.03,0.01,0.4,100)\n",
    "        \"\"\"\n",
    "        self.s = s\n",
    "        self.t = t\n",
    "        self.k = k\n",
    "        self.r = r\n",
    "        self.q = q\n",
    "        self.v = v\n",
    "        self.n = n\n",
    "    \n",
    "    def __str__(self):\n",
    "        return str(self.n)+\"x\"+\" EUCALL Strike=\" + str(self.k)\n",
    "    \n",
    "    def theovalue(self):\n",
    "        if self.t <= 0:\n",
    "            return max(self.s - self.k, 0)\n",
    "        else:\n",
    "            d1 = (1/(self.v*np.sqrt(self.t))) * (np.log(self.s/self.k)+ (self.r-self.q+0.5*self.v**2)*self.t)\n",
    "            d2 = d1 - self.v*np.sqrt(self.t)\n",
    "            return self.s*np.exp(-self.q*self.t)*sp.norm().cdf(d1)-sp.norm().cdf(d2)*self.k*np.exp(-self.r*self.t)\n",
    "        \n",
    "    def delta(self):\n",
    "        s0 = self.s\n",
    "        s_plus = self.s*1.001\n",
    "        s_minus = self.s*(0.999)\n",
    "        \n",
    "        self.s = s_plus\n",
    "        theovalue_plus = self.theovalue()\n",
    "        self.s = s_minus\n",
    "        theovalue_minus = self.theovalue()\n",
    "        \n",
    "        self.s = s0\n",
    "        \n",
    "        return (theovalue_plus - theovalue_minus)/(s_plus-s_minus)\n",
    "    "
   ]
  },
  {
   "cell_type": "markdown",
   "metadata": {},
   "source": [
    "<b>Create Portfolio Object</b>\n",
    "<br>\n",
    "Methods:\n",
    "<ul>\n",
    "<li>add \n",
    "<li>clear\n",
    "<li>totaldelta\n",
    "<li>marketvalue\n",
    "</ul>"
   ]
  },
  {
   "cell_type": "code",
   "execution_count": 22,
   "metadata": {},
   "outputs": [],
   "source": [
    "class Portfolio:\n",
    "    def __init__(self):\n",
    "        self.holding = []\n",
    "    def add(self,asset):\n",
    "        self.holding.append(asset)\n",
    "    \n",
    "    def clear(self):\n",
    "        self.holding = []\n",
    "    \n",
    "    def marketvalue(self):\n",
    "        mv = 0\n",
    "        for o in self.holding:\n",
    "            mv += o.marketvalue()\n",
    "        return mv\n",
    "    \n",
    "    def totaldelta(self):\n",
    "        delta = 0\n",
    "        for o in self.holding:\n",
    "            delta += o.totaldelta()\n",
    "        return delta\n",
    "    \n",
    "    def set_underlying(self,s):\n",
    "        for o in self.holding:\n",
    "            o.s = s\n",
    "    "
   ]
  },
  {
   "cell_type": "code",
   "execution_count": null,
   "metadata": {},
   "outputs": [],
   "source": []
  }
 ],
 "metadata": {
  "anaconda-cloud": {},
  "kernelspec": {
   "display_name": "Python [default]",
   "language": "python",
   "name": "python3"
  },
  "language_info": {
   "codemirror_mode": {
    "name": "ipython",
    "version": 3
   },
   "file_extension": ".py",
   "mimetype": "text/x-python",
   "name": "python",
   "nbconvert_exporter": "python",
   "pygments_lexer": "ipython3",
   "version": "3.5.2"
  }
 },
 "nbformat": 4,
 "nbformat_minor": 2
}
