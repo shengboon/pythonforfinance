{
 "cells": [
  {
   "cell_type": "code",
   "execution_count": 1,
   "metadata": {},
   "outputs": [],
   "source": [
    "import numpy as np\n",
    "import scipy.stats as sp"
   ]
  },
  {
   "cell_type": "code",
   "execution_count": 2,
   "metadata": {},
   "outputs": [],
   "source": [
    "def eucall(t, s, k, r, q, v):\n",
    "    \"\"\"\n",
    "    eucall calculates the theoretical price of a European call option\n",
    "    t = maturity in years\n",
    "    s = spot price (underlying)\n",
    "    k = strike\n",
    "    r = interest rate (0.05 = 5%)\n",
    "    q = dividend yield (0.02 = 2%)\n",
    "    v = volatility (0.4 = 40%)\n",
    "    \"\"\"\n",
    "    if t <= 0:\n",
    "        return max(s - k, 0)\n",
    "    else:\n",
    "        d1 = (1/(v*np.sqrt(t))) * (np.log(s/k)+ (r-q+0.5*v**2)*t)\n",
    "        d2 = d1 - v*np.sqrt(t)\n",
    "        return s*np.exp(-q*t)*sp.norm().cdf(d1)-sp.norm().cdf(d2)*k*np.exp(-r*t)"
   ]
  },
  {
   "cell_type": "code",
   "execution_count": 3,
   "metadata": {},
   "outputs": [],
   "source": [
    "?eucall"
   ]
  },
  {
   "cell_type": "code",
   "execution_count": 4,
   "metadata": {},
   "outputs": [
    {
     "data": {
      "text/plain": [
       "23.999855388105196"
      ]
     },
     "execution_count": 4,
     "metadata": {},
     "output_type": "execute_result"
    }
   ],
   "source": [
    "eucall(5,100,100,0.01,0,0.25)"
   ]
  },
  {
   "cell_type": "code",
   "execution_count": null,
   "metadata": {},
   "outputs": [],
   "source": []
  }
 ],
 "metadata": {
  "anaconda-cloud": {},
  "kernelspec": {
   "display_name": "Python 3",
   "language": "python",
   "name": "python3"
  },
  "language_info": {
   "codemirror_mode": {
    "name": "ipython",
    "version": 3
   },
   "file_extension": ".py",
   "mimetype": "text/x-python",
   "name": "python",
   "nbconvert_exporter": "python",
   "pygments_lexer": "ipython3",
   "version": "3.6.4"
  }
 },
 "nbformat": 4,
 "nbformat_minor": 2
}
