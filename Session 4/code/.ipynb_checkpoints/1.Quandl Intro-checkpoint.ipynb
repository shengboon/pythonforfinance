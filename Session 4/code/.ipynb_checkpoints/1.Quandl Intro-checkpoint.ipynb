{
 "cells": [
  {
   "cell_type": "markdown",
   "metadata": {},
   "source": [
    "<h3>Quandl</h3>"
   ]
  },
  {
   "cell_type": "markdown",
   "metadata": {},
   "source": [
    "Your auth token can be found by going into your Quandl account. You can pull something like 50 free pulls per IP address, but, if you make a free account, you can pull some massive amount of requests, so I suggest you just make an account with Quandl.\n",
    "<hr>\n",
    "The token is read by running (security reason a separate Python program) \"<b>read_token</b>\" and store the content into a separate variable <b>auth_tok</b>"
   ]
  },
  {
   "cell_type": "code",
   "execution_count": 3,
   "metadata": {},
   "outputs": [],
   "source": [
    "%run read_token.ipynb"
   ]
  },
  {
   "cell_type": "code",
   "execution_count": 4,
   "metadata": {},
   "outputs": [
    {
     "name": "stdout",
     "output_type": "stream",
     "text": [
      "<class 'pandas.core.frame.DataFrame'>\n"
     ]
    }
   ],
   "source": [
    "import pandas as pd\n",
    "import os\n",
    "import quandl\n",
    "import time\n",
    "\n",
    "data = quandl.get(\"EURONEXT/KBC\", trim_start = \"2018-01-01\", trim_end = \"2019-01-25\", authtoken=auth_tok)\n",
    "print(type(data))"
   ]
  },
  {
   "cell_type": "code",
   "execution_count": 5,
   "metadata": {},
   "outputs": [
    {
     "data": {
      "text/html": [
       "<div>\n",
       "<style scoped>\n",
       "    .dataframe tbody tr th:only-of-type {\n",
       "        vertical-align: middle;\n",
       "    }\n",
       "\n",
       "    .dataframe tbody tr th {\n",
       "        vertical-align: top;\n",
       "    }\n",
       "\n",
       "    .dataframe thead th {\n",
       "        text-align: right;\n",
       "    }\n",
       "</style>\n",
       "<table border=\"1\" class=\"dataframe\">\n",
       "  <thead>\n",
       "    <tr style=\"text-align: right;\">\n",
       "      <th></th>\n",
       "      <th>Open</th>\n",
       "      <th>High</th>\n",
       "      <th>Low</th>\n",
       "      <th>Last</th>\n",
       "      <th>Volume</th>\n",
       "      <th>Turnover</th>\n",
       "    </tr>\n",
       "    <tr>\n",
       "      <th>Date</th>\n",
       "      <th></th>\n",
       "      <th></th>\n",
       "      <th></th>\n",
       "      <th></th>\n",
       "      <th></th>\n",
       "      <th></th>\n",
       "    </tr>\n",
       "  </thead>\n",
       "  <tbody>\n",
       "    <tr>\n",
       "      <th>2018-01-02</th>\n",
       "      <td>71.60</td>\n",
       "      <td>71.64</td>\n",
       "      <td>70.36</td>\n",
       "      <td>71.00</td>\n",
       "      <td>529778.0</td>\n",
       "      <td>37527143.10</td>\n",
       "    </tr>\n",
       "    <tr>\n",
       "      <th>2018-01-03</th>\n",
       "      <td>71.34</td>\n",
       "      <td>71.56</td>\n",
       "      <td>70.86</td>\n",
       "      <td>71.26</td>\n",
       "      <td>521054.0</td>\n",
       "      <td>37084008.34</td>\n",
       "    </tr>\n",
       "    <tr>\n",
       "      <th>2018-01-04</th>\n",
       "      <td>71.80</td>\n",
       "      <td>73.18</td>\n",
       "      <td>71.60</td>\n",
       "      <td>72.72</td>\n",
       "      <td>891908.0</td>\n",
       "      <td>64788826.24</td>\n",
       "    </tr>\n",
       "    <tr>\n",
       "      <th>2018-01-05</th>\n",
       "      <td>73.00</td>\n",
       "      <td>73.62</td>\n",
       "      <td>72.82</td>\n",
       "      <td>73.40</td>\n",
       "      <td>704074.0</td>\n",
       "      <td>51604701.10</td>\n",
       "    </tr>\n",
       "    <tr>\n",
       "      <th>2018-01-08</th>\n",
       "      <td>73.62</td>\n",
       "      <td>73.92</td>\n",
       "      <td>72.94</td>\n",
       "      <td>72.94</td>\n",
       "      <td>775004.0</td>\n",
       "      <td>56775598.96</td>\n",
       "    </tr>\n",
       "  </tbody>\n",
       "</table>\n",
       "</div>"
      ],
      "text/plain": [
       "             Open   High    Low   Last    Volume     Turnover\n",
       "Date                                                         \n",
       "2018-01-02  71.60  71.64  70.36  71.00  529778.0  37527143.10\n",
       "2018-01-03  71.34  71.56  70.86  71.26  521054.0  37084008.34\n",
       "2018-01-04  71.80  73.18  71.60  72.72  891908.0  64788826.24\n",
       "2018-01-05  73.00  73.62  72.82  73.40  704074.0  51604701.10\n",
       "2018-01-08  73.62  73.92  72.94  72.94  775004.0  56775598.96"
      ]
     },
     "execution_count": 5,
     "metadata": {},
     "output_type": "execute_result"
    }
   ],
   "source": [
    "data.head()"
   ]
  },
  {
   "cell_type": "code",
   "execution_count": null,
   "metadata": {},
   "outputs": [],
   "source": []
  }
 ],
 "metadata": {
  "kernelspec": {
   "display_name": "Python 3",
   "language": "python",
   "name": "python3"
  },
  "language_info": {
   "codemirror_mode": {
    "name": "ipython",
    "version": 3
   },
   "file_extension": ".py",
   "mimetype": "text/x-python",
   "name": "python",
   "nbconvert_exporter": "python",
   "pygments_lexer": "ipython3",
   "version": "3.6.4"
  }
 },
 "nbformat": 4,
 "nbformat_minor": 2
}
