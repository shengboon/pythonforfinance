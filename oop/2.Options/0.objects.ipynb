{
 "cells": [
  {
   "cell_type": "code",
   "execution_count": 6,
   "metadata": {},
   "outputs": [],
   "source": [
    "import numpy as np\n",
    "import scipy.stats as sp"
   ]
  },
  {
   "cell_type": "markdown",
   "metadata": {},
   "source": [
    "<b>Create Equity Class </b>\n",
    "<br>\n",
    "Member Functions\n",
    "<ul>\n",
    "<li> delta\n",
    "<li>marketvalue\n",
    "<li>theovalue\n",
    "</ul>"
   ]
  },
  {
   "cell_type": "code",
   "execution_count": 7,
   "metadata": {},
   "outputs": [],
   "source": [
    "class Equity:\n",
    "    def __init__(self,s,n=0):\n",
    "        \"\"\"\n",
    "        Equity Object\n",
    "        s = share price\n",
    "        n = nbr of shares in position\n",
    "        \"\"\"\n",
    "        self.price = s\n",
    "        self.n = n\n",
    "    \n",
    "    def delta(self):\n",
    "        return 1\n",
    "    \n",
    "    def marketvalue(self):\n",
    "        return self.theovalue() * self.n\n",
    "    \n",
    "    def theovalue(self):\n",
    "        return self.price\n",
    "    \n",
    "    def totaldelta(self):\n",
    "        return self.n * self.s * self.delta()"
   ]
  },
  {
   "cell_type": "markdown",
   "metadata": {},
   "source": [
    "<b> European Call Option</b> (derived from Equity)<br>\n",
    "<br>\n",
    "$\\Delta=\\frac{\\partial P}{\\partial S} \\sim \\frac{\\Delta P}{\\Delta S}$"
   ]
  },
  {
   "cell_type": "code",
   "execution_count": 42,
   "metadata": {},
   "outputs": [],
   "source": [
    "class EuCall(Equity):\n",
    "    def __init__(self,t, s, k, r, q, v,n):\n",
    "        \"\"\"\n",
    "        t = maturity\n",
    "        s = spot price (underlying)\n",
    "        k = strike\n",
    "        r = interest rate\n",
    "        q = div yield\n",
    "        v = volatility\n",
    "        n = nbr of options\n",
    "        Example : EuCall(5,100,100,0.03,0.01,0.4,100)\n",
    "        \"\"\"\n",
    "        self.s = s\n",
    "        self.t = t\n",
    "        self.k = k\n",
    "        self.r = r\n",
    "        self.q = q\n",
    "        self.v = v\n",
    "        self.n = n\n",
    "    \n",
    "    def __str__(self):\n",
    "        return str(self.n)+\"x\"+\" EUCALL Strike=\" + str(self.k)\n",
    "    \n",
    "    def theovalue(self):\n",
    "        if self.t <= 0:\n",
    "            return max(self.s - self.k, 0)\n",
    "        else:\n",
    "            d1 = (1/(self.v*np.sqrt(self.t))) * (np.log(self.s/self.k)+ (self.r-self.q+0.5*self.v**2)*self.t)\n",
    "            d2 = d1 - self.v*np.sqrt(self.t)\n",
    "            return self.s*np.exp(-self.q*self.t)*sp.norm().cdf(d1)-sp.norm().cdf(d2)*self.k*np.exp(-self.r*self.t)\n",
    "        \n",
    "    def delta(self):\n",
    "        s0 = self.s\n",
    "        s_plus = self.s*1.001\n",
    "        s_minus = self.s*(0.999)\n",
    "        \n",
    "        self.s = s_plus\n",
    "        theovalue_plus = self.theovalue()\n",
    "        self.s = s_minus\n",
    "        theovalue_minus = self.theovalue()\n",
    "        \n",
    "        self.s = s0\n",
    "    \n",
    "        return (theovalue_plus - theovalue_minus)/(s_plus-s_minus)\n",
    "    "
   ]
  },
  {
   "cell_type": "markdown",
   "metadata": {},
   "source": [
    "<b>Create Portfolio Object</b>\n",
    "<br>\n",
    "Methods:\n",
    "<ul>\n",
    "<li>add \n",
    "<li>clear\n",
    "<li>totaldelta\n",
    "<li>marketvalue\n",
    "</ul>"
   ]
  },
  {
   "cell_type": "code",
   "execution_count": 27,
   "metadata": {},
   "outputs": [],
   "source": [
    "class Portfolio:\n",
    "    def __init__(self):\n",
    "        self.holding = []\n",
    "    def add(self,asset):\n",
    "        self.holding.append(asset)\n",
    "    \n",
    "    def clear(self):\n",
    "        self.holding = []\n",
    "    \n",
    "    def marketvalue(self):\n",
    "        mv = 0\n",
    "        for o in self.holding:\n",
    "            mv += o.marketvalue()\n",
    "        return mv\n",
    "    \n",
    "    def totaldelta(self):\n",
    "        delta = 0\n",
    "        for o in self.holding:\n",
    "            delta += o.totaldelta()\n",
    "        return delta\n",
    "    \n",
    "    def set_underlying(self,s):\n",
    "        for o in self.holding:\n",
    "            o.s = s\n",
    "    "
   ]
  },
  {
   "cell_type": "code",
   "execution_count": 13,
   "metadata": {},
   "outputs": [],
   "source": [
    "a = EuCall(1,100,100,0.03,0.01,0.4,1)"
   ]
  },
  {
   "cell_type": "code",
   "execution_count": 34,
   "metadata": {},
   "outputs": [
    {
     "data": {
      "text/plain": [
       "(10,)"
      ]
     },
     "execution_count": 34,
     "metadata": {},
     "output_type": "execute_result"
    }
   ],
   "source": [
    "delta.shape"
   ]
  },
  {
   "cell_type": "code",
   "execution_count": 52,
   "metadata": {},
   "outputs": [],
   "source": [
    "stock = np.arange(50.0,150.0,10)\n",
    "call = np.zeros_like(stock)\n",
    "delta = stock*0.0001\n",
    "\n",
    "for i in np.arange(0,len(stock)):\n",
    "    a = EuCall(5,stock[i],100,0.03,0.01,0.4,1)\n",
    "    call[i] = a.theovalue()\n",
    "    delta[i] = a.delta()"
   ]
  },
  {
   "cell_type": "code",
   "execution_count": 50,
   "metadata": {},
   "outputs": [],
   "source": [
    "import matplotlib.pyplot as plt\n",
    "%matplotlib inline"
   ]
  },
  {
   "cell_type": "code",
   "execution_count": 51,
   "metadata": {},
   "outputs": [
    {
     "data": {
      "text/plain": [
       "[<matplotlib.lines.Line2D at 0x105221400>]"
      ]
     },
     "execution_count": 51,
     "metadata": {},
     "output_type": "execute_result"
    },
    {
     "data": {
      "image/png": "[encoded data removed]",
      "text/plain": [
       "<Figure size 432x288 with 2 Axes>"
      ]
     },
     "metadata": {},
     "output_type": "display_data"
    }
   ],
   "source": [
    "fig,ax = plt.subplots(2,1)\n",
    "ax[0].plot(stock,call)\n",
    "ax[1].plot(stock,delta)"
   ]
  },
  {
   "cell_type": "code",
   "execution_count": 40,
   "metadata": {},
   "outputs": [
    {
     "data": {
      "text/plain": [
       "array([0, 0, 0, 0, 0, 0, 0, 0, 0, 0])"
      ]
     },
     "execution_count": 40,
     "metadata": {},
     "output_type": "execute_result"
    }
   ],
   "source": [
    "delta"
   ]
  },
  {
   "cell_type": "code",
   "execution_count": null,
   "metadata": {},
   "outputs": [],
   "source": []
  }
 ],
 "metadata": {
  "anaconda-cloud": {},
  "kernelspec": {
   "display_name": "Python 3",
   "language": "python",
   "name": "python3"
  },
  "language_info": {
   "codemirror_mode": {
    "name": "ipython",
    "version": 3
   },
   "file_extension": ".py",
   "mimetype": "text/x-python",
   "name": "python",
   "nbconvert_exporter": "python",
   "pygments_lexer": "ipython3",
   "version": "3.7.0"
  },
  "toc": {
   "base_numbering": 1,
   "nav_menu": {},
   "number_sections": true,
   "sideBar": true,
   "skip_h1_title": false,
   "title_cell": "Table of Contents",
   "title_sidebar": "Contents",
   "toc_cell": false,
   "toc_position": {},
   "toc_section_display": true,
   "toc_window_display": false
  },
  "varInspector": {
   "cols": {
    "lenName": 16,
    "lenType": 16,
    "lenVar": 40
   },
   "kernels_config": {
    "python": {
     "delete_cmd_postfix": "",
     "delete_cmd_prefix": "del ",
     "library": "var_list.py",
     "varRefreshCmd": "print(var_dic_list())"
    },
    "r": {
     "delete_cmd_postfix": ") ",
     "delete_cmd_prefix": "rm(",
     "library": "var_list.r",
     "varRefreshCmd": "cat(var_dic_list()) "
    }
   },
   "types_to_exclude": [
    "module",
    "function",
    "builtin_function_or_method",
    "instance",
    "_Feature"
   ],
   "window_display": false
  }
 },
 "nbformat": 4,
 "nbformat_minor": 2
}
