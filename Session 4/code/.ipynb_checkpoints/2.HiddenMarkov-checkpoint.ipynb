{
 "cells": [
  {
   "cell_type": "code",
   "execution_count": 1,
   "metadata": {},
   "outputs": [],
   "source": [
    "import networkx as nx\n",
    "import numpy as np\n",
    "import matplotlib.pyplot as plt\n",
    "import pandas as pd\n",
    "%matplotlib inline"
   ]
  },
  {
   "cell_type": "code",
   "execution_count": 2,
   "metadata": {},
   "outputs": [],
   "source": [
    "G = nx.MultiDiGraph()\n",
    "labels={}\n",
    "edge_labels={}"
   ]
  },
  {
   "cell_type": "code",
   "execution_count": 3,
   "metadata": {},
   "outputs": [
    {
     "name": "stdout",
     "output_type": "stream",
     "text": [
      "-2xS    0.2\n",
      "-1xS    0.2\n",
      "0xS     0.2\n",
      "+1xS    0.2\n",
      "+2xS    0.2\n",
      "Name: states, dtype: float64\n",
      "1.0\n"
     ]
    }
   ],
   "source": [
    "states = ['-2xS', '-1xS', '0xS','+1xS','+2xS']\n",
    "pi = [0.2,0.2,0.2,0.2,0.2]\n",
    "state_space = pd.Series(pi, index=states, name='states')\n",
    "print(state_space)\n",
    "print(state_space.sum())"
   ]
  },
  {
   "cell_type": "code",
   "execution_count": 4,
   "metadata": {},
   "outputs": [
    {
     "name": "stdout",
     "output_type": "stream",
     "text": [
      "Transition Matrix\n"
     ]
    }
   ],
   "source": [
    "print('Transition Matrix')\n",
    "q_df = pd.DataFrame(columns=states, index=states)\n",
    "q_df.loc[states[0]] = [0.1, 0.1, 0.8,0,0]\n",
    "q_df.loc[states[1]] = [0.1, 0.1, 0.8,0.0,0]\n",
    "q_df.loc[states[2]] = [0.0, 0.1, 0.8,0.1,0]\n",
    "q_df.loc[states[3]] = [0.0, 0.0, 0.8,0.1,0.1]\n",
    "q_df.loc[states[4]] = [0.0, 0.0, 0.8,0.1,0.1]\n",
    "\n",
    "q = q_df.values"
   ]
  },
  {
   "cell_type": "code",
   "execution_count": 5,
   "metadata": {},
   "outputs": [
    {
     "name": "stdout",
     "output_type": "stream",
     "text": [
      "Stationary Distribution\n",
      "\n",
      "[1.000000000000263 9.000000000000268 80.00000000000007 8.999999999999744\n",
      " 0.9999999999997387] 3\n"
     ]
    }
   ],
   "source": [
    "Q = pd.DataFrame(q)\n",
    "A = Q\n",
    "for i in np.arange(1,20,1):\n",
    "    A=np.dot(Q,A)\n",
    "print('Stationary Distribution\\n')\n",
    "print(A[0,:]*100,3)"
   ]
  },
  {
   "cell_type": "code",
   "execution_count": 6,
   "metadata": {},
   "outputs": [
    {
     "data": {
      "text/plain": [
       "'\\\\begin{tabular}{llllll}\\n\\\\toprule\\n{} &    0 &    1 &    2 &    3 &    4 \\\\\\\\\\n\\\\midrule\\n0 &  0.1 &  0.1 &  0.8 &    0 &    0 \\\\\\\\\\n1 &  0.1 &  0.1 &  0.8 &    0 &    0 \\\\\\\\\\n2 &    0 &  0.1 &  0.8 &  0.1 &    0 \\\\\\\\\\n3 &    0 &    0 &  0.8 &  0.1 &  0.1 \\\\\\\\\\n4 &    0 &    0 &  0.8 &  0.1 &  0.1 \\\\\\\\\\n\\\\bottomrule\\n\\\\end{tabular}\\n'"
      ]
     },
     "execution_count": 6,
     "metadata": {},
     "output_type": "execute_result"
    }
   ],
   "source": [
    "Q.to_latex()"
   ]
  },
  {
   "cell_type": "code",
   "execution_count": 7,
   "metadata": {},
   "outputs": [
    {
     "name": "stdout",
     "output_type": "stream",
     "text": [
      "{('-2xS', '-2xS'): 0.1, ('-1xS', '-2xS'): 0.1, ('0xS', '-2xS'): 0.0, ('+1xS', '-2xS'): 0.0, ('+2xS', '-2xS'): 0.0, ('-2xS', '-1xS'): 0.1, ('-1xS', '-1xS'): 0.1, ('0xS', '-1xS'): 0.1, ('+1xS', '-1xS'): 0.0, ('+2xS', '-1xS'): 0.0, ('-2xS', '0xS'): 0.8, ('-1xS', '0xS'): 0.8, ('0xS', '0xS'): 0.8, ('+1xS', '0xS'): 0.8, ('+2xS', '0xS'): 0.8, ('-2xS', '+1xS'): 0, ('-1xS', '+1xS'): 0.0, ('0xS', '+1xS'): 0.1, ('+1xS', '+1xS'): 0.1, ('+2xS', '+1xS'): 0.1, ('-2xS', '+2xS'): 0, ('-1xS', '+2xS'): 0, ('0xS', '+2xS'): 0, ('+1xS', '+2xS'): 0.1, ('+2xS', '+2xS'): 0.1}\n"
     ]
    }
   ],
   "source": [
    "def _get_markov_edges(Q):\n",
    "    edges = {}\n",
    "    for col in Q.columns:\n",
    "        for idx in Q.index:\n",
    "            edges[(idx,col)] = Q.loc[idx,col]\n",
    "    return edges\n",
    "\n",
    "edges_wts = _get_markov_edges(q_df)\n",
    "print(edges_wts)"
   ]
  },
  {
   "cell_type": "code",
   "execution_count": 8,
   "metadata": {},
   "outputs": [
    {
     "name": "stdout",
     "output_type": "stream",
     "text": [
      "Nodes:\n",
      "['-2xS', '-1xS', '0xS', '+1xS', '+2xS']\n",
      "\n"
     ]
    },
    {
     "data": {
      "image/png": "[encoded data removed]",
      "text/plain": [
       "<Figure size 360x360 with 1 Axes>"
      ]
     },
     "metadata": {},
     "output_type": "display_data"
    }
   ],
   "source": [
    "fig = plt.subplots(1,1,figsize=(5,5))\n",
    "# create graph object\n",
    "G = nx.MultiDiGraph()\n",
    "\n",
    "# nodes correspond to states\n",
    "G.add_nodes_from(states)\n",
    "print(f'Nodes:\\n{G.nodes()}\\n')\n",
    "\n",
    "# edges represent transition probabilities\n",
    "for k, v in edges_wts.items():\n",
    "    tmp_origin, tmp_destination = k[0], k[1]\n",
    "    if v!=0:\n",
    "        G.add_edge(tmp_origin, tmp_destination, weight=v, label=v)\n",
    "\n",
    "pos = nx.drawing.nx_pydot.graphviz_layout(G, prog='dot')\n",
    "nx.draw_networkx(G, pos)\n",
    "\n",
    "# create edge labels for jupyter plot but is not necessary\n",
    "edge_labels = {(n1,n2):d['label'] for n1,n2,d in G.edges(data=True)}\n",
    "nx.draw_networkx_edge_labels(G , pos, edge_labels=edge_labels)\n",
    "nx.drawing.nx_pydot.write_dot(G, 'markov1.dot')"
   ]
  },
  {
   "cell_type": "code",
   "execution_count": 9,
   "metadata": {},
   "outputs": [],
   "source": [
    "!dot -Tsvg markov1.dot -o markov1.svg"
   ]
  },
  {
   "cell_type": "code",
   "execution_count": 10,
   "metadata": {},
   "outputs": [
    {
     "name": "stdout",
     "output_type": "stream",
     "text": [
      "dyld: lazy symbol binding failed: Symbol not found: _pixman_image_create_bits\r\n",
      "  Referenced from: /usr/local/lib/graphviz/libgvplugin_pango.6.dylib\r\n",
      "  Expected in: flat namespace\r\n",
      "\r\n",
      "dyld: Symbol not found: _pixman_image_create_bits\r\n",
      "  Referenced from: /usr/local/lib/graphviz/libgvplugin_pango.6.dylib\r\n",
      "  Expected in: flat namespace\r\n",
      "\r\n"
     ]
    }
   ],
   "source": [
    "!dot -Tpng markov1.dot -o markov1.png"
   ]
  },
  {
   "cell_type": "code",
   "execution_count": null,
   "metadata": {},
   "outputs": [],
   "source": []
  }
 ],
 "metadata": {
  "kernelspec": {
   "display_name": "Python 3",
   "language": "python",
   "name": "python3"
  },
  "language_info": {
   "codemirror_mode": {
    "name": "ipython",
    "version": 3
   },
   "file_extension": ".py",
   "mimetype": "text/x-python",
   "name": "python",
   "nbconvert_exporter": "python",
   "pygments_lexer": "ipython3",
   "version": "3.6.4"
  }
 },
 "nbformat": 4,
 "nbformat_minor": 2
}
